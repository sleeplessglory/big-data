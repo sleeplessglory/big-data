{
 "cells": [
  {
   "cell_type": "code",
   "execution_count": 4,
   "id": "2e7b8ba6",
   "metadata": {},
   "outputs": [],
   "source": [
    "import pandas as pd\n",
    "import matplotlib.pyplot as plt"
   ]
  },
  {
   "cell_type": "code",
   "execution_count": 5,
   "id": "6efa496e",
   "metadata": {},
   "outputs": [],
   "source": [
    "#data={'Транзакция': [1,2,3,4,5], 'Кола':[1,0,1,1,0], 'Пиво':[1,0,1,1,1],'Подгузники':[1,0,0,1,1]}\n",
    "\n",
    "df=pd.read_csv('Market_Basket_Optimisation.csv')\n",
    "#df=pd.read_csv('data.csv')"
   ]
  },
  {
   "cell_type": "code",
   "execution_count": 6,
   "id": "1dded9c8",
   "metadata": {
    "scrolled": true
   },
   "outputs": [
    {
     "data": {
      "text/html": [
       "<div>\n",
       "<style scoped>\n",
       "    .dataframe tbody tr th:only-of-type {\n",
       "        vertical-align: middle;\n",
       "    }\n",
       "\n",
       "    .dataframe tbody tr th {\n",
       "        vertical-align: top;\n",
       "    }\n",
       "\n",
       "    .dataframe thead th {\n",
       "        text-align: right;\n",
       "    }\n",
       "</style>\n",
       "<table border=\"1\" class=\"dataframe\">\n",
       "  <thead>\n",
       "    <tr style=\"text-align: right;\">\n",
       "      <th></th>\n",
       "      <th>shrimp</th>\n",
       "      <th>almonds</th>\n",
       "      <th>avocado</th>\n",
       "      <th>vegetables mix</th>\n",
       "      <th>green grapes</th>\n",
       "      <th>whole weat flour</th>\n",
       "      <th>yams</th>\n",
       "      <th>cottage cheese</th>\n",
       "      <th>energy drink</th>\n",
       "      <th>tomato juice</th>\n",
       "      <th>low fat yogurt</th>\n",
       "      <th>green tea</th>\n",
       "      <th>honey</th>\n",
       "      <th>salad</th>\n",
       "      <th>mineral water</th>\n",
       "      <th>salmon</th>\n",
       "      <th>antioxydant juice</th>\n",
       "      <th>frozen smoothie</th>\n",
       "      <th>spinach</th>\n",
       "      <th>olive oil</th>\n",
       "    </tr>\n",
       "  </thead>\n",
       "  <tbody>\n",
       "    <tr>\n",
       "      <th>0</th>\n",
       "      <td>burgers</td>\n",
       "      <td>meatballs</td>\n",
       "      <td>eggs</td>\n",
       "      <td>NaN</td>\n",
       "      <td>NaN</td>\n",
       "      <td>NaN</td>\n",
       "      <td>NaN</td>\n",
       "      <td>NaN</td>\n",
       "      <td>NaN</td>\n",
       "      <td>NaN</td>\n",
       "      <td>NaN</td>\n",
       "      <td>NaN</td>\n",
       "      <td>NaN</td>\n",
       "      <td>NaN</td>\n",
       "      <td>NaN</td>\n",
       "      <td>NaN</td>\n",
       "      <td>NaN</td>\n",
       "      <td>NaN</td>\n",
       "      <td>NaN</td>\n",
       "      <td>NaN</td>\n",
       "    </tr>\n",
       "    <tr>\n",
       "      <th>1</th>\n",
       "      <td>chutney</td>\n",
       "      <td>NaN</td>\n",
       "      <td>NaN</td>\n",
       "      <td>NaN</td>\n",
       "      <td>NaN</td>\n",
       "      <td>NaN</td>\n",
       "      <td>NaN</td>\n",
       "      <td>NaN</td>\n",
       "      <td>NaN</td>\n",
       "      <td>NaN</td>\n",
       "      <td>NaN</td>\n",
       "      <td>NaN</td>\n",
       "      <td>NaN</td>\n",
       "      <td>NaN</td>\n",
       "      <td>NaN</td>\n",
       "      <td>NaN</td>\n",
       "      <td>NaN</td>\n",
       "      <td>NaN</td>\n",
       "      <td>NaN</td>\n",
       "      <td>NaN</td>\n",
       "    </tr>\n",
       "    <tr>\n",
       "      <th>2</th>\n",
       "      <td>turkey</td>\n",
       "      <td>avocado</td>\n",
       "      <td>NaN</td>\n",
       "      <td>NaN</td>\n",
       "      <td>NaN</td>\n",
       "      <td>NaN</td>\n",
       "      <td>NaN</td>\n",
       "      <td>NaN</td>\n",
       "      <td>NaN</td>\n",
       "      <td>NaN</td>\n",
       "      <td>NaN</td>\n",
       "      <td>NaN</td>\n",
       "      <td>NaN</td>\n",
       "      <td>NaN</td>\n",
       "      <td>NaN</td>\n",
       "      <td>NaN</td>\n",
       "      <td>NaN</td>\n",
       "      <td>NaN</td>\n",
       "      <td>NaN</td>\n",
       "      <td>NaN</td>\n",
       "    </tr>\n",
       "    <tr>\n",
       "      <th>3</th>\n",
       "      <td>mineral water</td>\n",
       "      <td>milk</td>\n",
       "      <td>energy bar</td>\n",
       "      <td>whole wheat rice</td>\n",
       "      <td>green tea</td>\n",
       "      <td>NaN</td>\n",
       "      <td>NaN</td>\n",
       "      <td>NaN</td>\n",
       "      <td>NaN</td>\n",
       "      <td>NaN</td>\n",
       "      <td>NaN</td>\n",
       "      <td>NaN</td>\n",
       "      <td>NaN</td>\n",
       "      <td>NaN</td>\n",
       "      <td>NaN</td>\n",
       "      <td>NaN</td>\n",
       "      <td>NaN</td>\n",
       "      <td>NaN</td>\n",
       "      <td>NaN</td>\n",
       "      <td>NaN</td>\n",
       "    </tr>\n",
       "    <tr>\n",
       "      <th>4</th>\n",
       "      <td>low fat yogurt</td>\n",
       "      <td>NaN</td>\n",
       "      <td>NaN</td>\n",
       "      <td>NaN</td>\n",
       "      <td>NaN</td>\n",
       "      <td>NaN</td>\n",
       "      <td>NaN</td>\n",
       "      <td>NaN</td>\n",
       "      <td>NaN</td>\n",
       "      <td>NaN</td>\n",
       "      <td>NaN</td>\n",
       "      <td>NaN</td>\n",
       "      <td>NaN</td>\n",
       "      <td>NaN</td>\n",
       "      <td>NaN</td>\n",
       "      <td>NaN</td>\n",
       "      <td>NaN</td>\n",
       "      <td>NaN</td>\n",
       "      <td>NaN</td>\n",
       "      <td>NaN</td>\n",
       "    </tr>\n",
       "  </tbody>\n",
       "</table>\n",
       "</div>"
      ],
      "text/plain": [
       "           shrimp    almonds     avocado    vegetables mix green grapes  \\\n",
       "0         burgers  meatballs        eggs               NaN          NaN   \n",
       "1         chutney        NaN         NaN               NaN          NaN   \n",
       "2          turkey    avocado         NaN               NaN          NaN   \n",
       "3   mineral water       milk  energy bar  whole wheat rice    green tea   \n",
       "4  low fat yogurt        NaN         NaN               NaN          NaN   \n",
       "\n",
       "  whole weat flour yams cottage cheese energy drink tomato juice  \\\n",
       "0              NaN  NaN            NaN          NaN          NaN   \n",
       "1              NaN  NaN            NaN          NaN          NaN   \n",
       "2              NaN  NaN            NaN          NaN          NaN   \n",
       "3              NaN  NaN            NaN          NaN          NaN   \n",
       "4              NaN  NaN            NaN          NaN          NaN   \n",
       "\n",
       "  low fat yogurt green tea honey salad mineral water salmon antioxydant juice  \\\n",
       "0            NaN       NaN   NaN   NaN           NaN    NaN               NaN   \n",
       "1            NaN       NaN   NaN   NaN           NaN    NaN               NaN   \n",
       "2            NaN       NaN   NaN   NaN           NaN    NaN               NaN   \n",
       "3            NaN       NaN   NaN   NaN           NaN    NaN               NaN   \n",
       "4            NaN       NaN   NaN   NaN           NaN    NaN               NaN   \n",
       "\n",
       "  frozen smoothie spinach  olive oil  \n",
       "0             NaN     NaN        NaN  \n",
       "1             NaN     NaN        NaN  \n",
       "2             NaN     NaN        NaN  \n",
       "3             NaN     NaN        NaN  \n",
       "4             NaN     NaN        NaN  "
      ]
     },
     "execution_count": 6,
     "metadata": {},
     "output_type": "execute_result"
    }
   ],
   "source": [
    "df.head()"
   ]
  },
  {
   "cell_type": "code",
   "execution_count": 7,
   "id": "60375d6b",
   "metadata": {},
   "outputs": [
    {
     "name": "stdout",
     "output_type": "stream",
     "text": [
      "<class 'pandas.core.frame.DataFrame'>\n",
      "RangeIndex: 7500 entries, 0 to 7499\n",
      "Data columns (total 20 columns):\n",
      " #   Column             Non-Null Count  Dtype  \n",
      "---  ------             --------------  -----  \n",
      " 0   shrimp             7500 non-null   object \n",
      " 1   almonds            5746 non-null   object \n",
      " 2   avocado            4388 non-null   object \n",
      " 3   vegetables mix     3344 non-null   object \n",
      " 4   green grapes       2528 non-null   object \n",
      " 5   whole weat flour   1863 non-null   object \n",
      " 6   yams               1368 non-null   object \n",
      " 7   cottage cheese     980 non-null    object \n",
      " 8   energy drink       653 non-null    object \n",
      " 9   tomato juice       394 non-null    object \n",
      " 10  low fat yogurt     255 non-null    object \n",
      " 11  green tea          153 non-null    object \n",
      " 12  honey              86 non-null     object \n",
      " 13  salad              46 non-null     object \n",
      " 14  mineral water      24 non-null     object \n",
      " 15  salmon             7 non-null      object \n",
      " 16  antioxydant juice  3 non-null      object \n",
      " 17  frozen smoothie    3 non-null      object \n",
      " 18  spinach            2 non-null      object \n",
      " 19  olive oil          0 non-null      float64\n",
      "dtypes: float64(1), object(19)\n",
      "memory usage: 1.1+ MB\n"
     ]
    }
   ],
   "source": [
    "df.info()"
   ]
  },
  {
   "cell_type": "code",
   "execution_count": 8,
   "id": "1863649a",
   "metadata": {},
   "outputs": [
    {
     "data": {
      "text/plain": [
       "mineral water    1787\n",
       "eggs             1348\n",
       "spaghetti        1306\n",
       "french fries     1282\n",
       "chocolate        1230\n",
       "                 ... \n",
       "bramble            14\n",
       "cream               7\n",
       "napkins             5\n",
       "water spray         3\n",
       " asparagus          1\n",
       "Length: 120, dtype: int64"
      ]
     },
     "execution_count": 8,
     "metadata": {},
     "output_type": "execute_result"
    }
   ],
   "source": [
    "df.stack().value_counts()"
   ]
  },
  {
   "cell_type": "code",
   "execution_count": 9,
   "id": "8ebf52ba",
   "metadata": {},
   "outputs": [
    {
     "data": {
      "text/plain": [
       "mineral water    0.060900\n",
       "eggs             0.045939\n",
       "spaghetti        0.044508\n",
       "french fries     0.043690\n",
       "chocolate        0.041918\n",
       "                   ...   \n",
       "bramble          0.000477\n",
       "cream            0.000239\n",
       "napkins          0.000170\n",
       "water spray      0.000102\n",
       " asparagus       0.000034\n",
       "Length: 120, dtype: float64"
      ]
     },
     "execution_count": 9,
     "metadata": {},
     "output_type": "execute_result"
    }
   ],
   "source": [
    "df.stack().value_counts(normalize=True)"
   ]
  },
  {
   "cell_type": "code",
   "execution_count": 10,
   "id": "71aa8717",
   "metadata": {},
   "outputs": [
    {
     "data": {
      "text/plain": [
       "<AxesSubplot: >"
      ]
     },
     "execution_count": 10,
     "metadata": {},
     "output_type": "execute_result"
    },
    {
     "data": {
      "image/png": "[encoded data removed]",
      "text/plain": [
       "<Figure size 640x480 with 1 Axes>"
      ]
     },
     "metadata": {},
     "output_type": "display_data"
    }
   ],
   "source": [
    "df.stack().value_counts(normalize=True)[:20].plot(kind='bar') #Относительная частота"
   ]
  },
  {
   "cell_type": "code",
   "execution_count": 11,
   "id": "778bdfe9",
   "metadata": {},
   "outputs": [
    {
     "data": {
      "text/plain": [
       "<AxesSubplot: >"
      ]
     },
     "execution_count": 11,
     "metadata": {},
     "output_type": "execute_result"
    },
    {
     "data": {
      "image/png": "[encoded data removed]",
      "text/plain": [
       "<Figure size 640x480 with 1 Axes>"
      ]
     },
     "metadata": {},
     "output_type": "display_data"
    }
   ],
   "source": [
    "df.stack().value_counts().apply(lambda item: item /df.shape[0])[:20].plot(kind='bar') #Фактическая частота"
   ]
  },
  {
   "cell_type": "code",
   "execution_count": 12,
   "id": "70b6fd4a",
   "metadata": {},
   "outputs": [],
   "source": [
    "transactions=[]\n",
    "for i in range(df.shape[0]):\n",
    "    row=df.iloc[i].dropna().tolist()\n",
    "    transactions.append(row)"
   ]
  },
  {
   "cell_type": "code",
   "execution_count": 13,
   "id": "8e145db1",
   "metadata": {},
   "outputs": [
    {
     "data": {
      "text/plain": [
       "'burgers'"
      ]
     },
     "execution_count": 13,
     "metadata": {},
     "output_type": "execute_result"
    }
   ],
   "source": [
    "transactions[0][0]"
   ]
  },
  {
   "cell_type": "code",
   "execution_count": 14,
   "id": "2ab878d4",
   "metadata": {},
   "outputs": [
    {
     "data": {
      "text/plain": [
       "['burgers', 'meatballs', 'eggs']"
      ]
     },
     "execution_count": 14,
     "metadata": {},
     "output_type": "execute_result"
    }
   ],
   "source": [
    "transactions[0]"
   ]
  },
  {
   "cell_type": "code",
   "execution_count": 19,
   "id": "2cb5b297",
   "metadata": {},
   "outputs": [],
   "source": [
    "from apriori_python import apriori\n",
    "import time"
   ]
  },
  {
   "cell_type": "code",
   "execution_count": 16,
   "id": "d0e37c33",
   "metadata": {},
   "outputs": [],
   "source": [
    "t=[]\n",
    "start=time.perf_counter()\n",
    "\n",
    "t1, rules=apriori(transactions,minSup=0.03,minConf=0.2)\n",
    "time1=(time.perf_counter()-start)\n",
    "t.append(time1)"
   ]
  },
  {
   "cell_type": "code",
   "execution_count": 17,
   "id": "e33154de",
   "metadata": {},
   "outputs": [
    {
     "data": {
      "text/plain": [
       "[[{'french fries'}, {'chocolate'}, 0.20124804992199688],\n",
       " [{'mineral water'}, {'milk'}, 0.20145495243424735],\n",
       " [{'eggs'}, {'french fries'}, 0.20252225519287834],\n",
       " [{'chocolate'}, {'eggs'}, 0.20260374288039057],\n",
       " [{'eggs'}, {'spaghetti'}, 0.2032640949554896],\n",
       " [{'spaghetti'}, {'milk'}, 0.20367534456355282],\n",
       " [{'spaghetti'}, {'eggs'}, 0.20980091883614088],\n",
       " [{'chocolate'}, {'french fries'}, 0.20992676973148902],\n",
       " [{'french fries'}, {'eggs'}, 0.21294851794071762],\n",
       " [{'mineral water'}, {'eggs'}, 0.21376608841634023],\n",
       " [{'mineral water'}, {'chocolate'}, 0.22104085058757694],\n",
       " [{'spaghetti'}, {'chocolate'}, 0.225114854517611],\n",
       " [{'spaghetti'}, {'ground beef'}, 0.225114854517611],\n",
       " [{'green tea'}, {'mineral water'}, 0.23434343434343435],\n",
       " [{'milk'}, {'eggs'}, 0.23765432098765432],\n",
       " [{'chocolate'}, {'spaghetti'}, 0.23921887713588283],\n",
       " [{'milk'}, {'chocolate'}, 0.24794238683127573],\n",
       " [{'mineral water'}, {'spaghetti'}, 0.2506994963626189],\n",
       " [{'milk'}, {'spaghetti'}, 0.2736625514403292],\n",
       " [{'eggs'}, {'mineral water'}, 0.28338278931750743],\n",
       " [{'chocolate'}, {'mineral water'}, 0.3213995117982099],\n",
       " [{'spaghetti'}, {'mineral water'}, 0.3430321592649311],\n",
       " [{'pancakes'}, {'mineral water'}, 0.3548387096774194],\n",
       " [{'milk'}, {'mineral water'}, 0.37037037037037035],\n",
       " [{'frozen vegetables'}, {'mineral water'}, 0.3748251748251748],\n",
       " [{'ground beef'}, {'spaghetti'}, 0.3989145183175034],\n",
       " [{'ground beef'}, {'mineral water'}, 0.41655359565807326]]"
      ]
     },
     "execution_count": 17,
     "metadata": {},
     "output_type": "execute_result"
    }
   ],
   "source": [
    "rules"
   ]
  },
  {
   "cell_type": "code",
   "execution_count": 23,
   "id": "86c00374",
   "metadata": {},
   "outputs": [],
   "source": [
    "from apyori import apriori as apy"
   ]
  },
  {
   "cell_type": "code",
   "execution_count": 24,
   "id": "3b6175f5",
   "metadata": {},
   "outputs": [],
   "source": [
    "start=time.perf_counter()\n",
    "rules=apy(transactions=transactions,\n",
    "             min_support=0.03, #как часто встречаются элементы в наборе данных\n",
    "             min_confidence=0.2, #как часто правило будет срабатывать\n",
    "             min_lift=1.0001) #насколько лучше по сравнению с чистой случайностью\n",
    "results=list(rules)\n",
    "time2=(time.perf_counter()-start)\n",
    "t.append(time2)"
   ]
  },
  {
   "cell_type": "code",
   "execution_count": 25,
   "id": "39c74a18",
   "metadata": {},
   "outputs": [
    {
     "data": {
      "text/plain": [
       "[RelationRecord(items=frozenset({'chocolate', 'eggs'}), support=0.0332, ordered_statistics=[OrderedStatistic(items_base=frozenset({'chocolate'}), items_add=frozenset({'eggs'}), confidence=0.20260374288039057, lift=1.127246343919087)]),\n",
       " RelationRecord(items=frozenset({'french fries', 'chocolate'}), support=0.0344, ordered_statistics=[OrderedStatistic(items_base=frozenset({'chocolate'}), items_add=frozenset({'french fries'}), confidence=0.20992676973148902, lift=1.2281207277583213), OrderedStatistic(items_base=frozenset({'french fries'}), items_add=frozenset({'chocolate'}), confidence=0.20124804992199688, lift=1.228120727758321)]),\n",
       " RelationRecord(items=frozenset({'milk', 'chocolate'}), support=0.03213333333333333, ordered_statistics=[OrderedStatistic(items_base=frozenset({'milk'}), items_add=frozenset({'chocolate'}), confidence=0.24794238683127573, lift=1.5130739635757267)]),\n",
       " RelationRecord(items=frozenset({'mineral water', 'chocolate'}), support=0.05266666666666667, ordered_statistics=[OrderedStatistic(items_base=frozenset({'chocolate'}), items_add=frozenset({'mineral water'}), confidence=0.32139951179820997, lift=1.3489067367020564), OrderedStatistic(items_base=frozenset({'mineral water'}), items_add=frozenset({'chocolate'}), confidence=0.22104085058757697, lift=1.3489067367020564)]),\n",
       " RelationRecord(items=frozenset({'chocolate', 'spaghetti'}), support=0.0392, ordered_statistics=[OrderedStatistic(items_base=frozenset({'chocolate'}), items_add=frozenset({'spaghetti'}), confidence=0.23921887713588283, lift=1.3737684368446563), OrderedStatistic(items_base=frozenset({'spaghetti'}), items_add=frozenset({'chocolate'}), confidence=0.225114854517611, lift=1.3737684368446563)]),\n",
       " RelationRecord(items=frozenset({'french fries', 'eggs'}), support=0.0364, ordered_statistics=[OrderedStatistic(items_base=frozenset({'eggs'}), items_add=frozenset({'french fries'}), confidence=0.20252225519287836, lift=1.1848025849817378), OrderedStatistic(items_base=frozenset({'french fries'}), items_add=frozenset({'eggs'}), confidence=0.21294851794071765, lift=1.1848025849817376)]),\n",
       " RelationRecord(items=frozenset({'milk', 'eggs'}), support=0.0308, ordered_statistics=[OrderedStatistic(items_base=frozenset({'milk'}), items_add=frozenset({'eggs'}), confidence=0.23765432098765435, lift=1.3222606879876913)]),\n",
       " RelationRecord(items=frozenset({'mineral water', 'eggs'}), support=0.05093333333333333, ordered_statistics=[OrderedStatistic(items_base=frozenset({'eggs'}), items_add=frozenset({'mineral water'}), confidence=0.28338278931750743, lift=1.1893513821383916), OrderedStatistic(items_base=frozenset({'mineral water'}), items_add=frozenset({'eggs'}), confidence=0.21376608841634023, lift=1.1893513821383916)]),\n",
       " RelationRecord(items=frozenset({'spaghetti', 'eggs'}), support=0.036533333333333334, ordered_statistics=[OrderedStatistic(items_base=frozenset({'eggs'}), items_add=frozenset({'spaghetti'}), confidence=0.20326409495548964, lift=1.1672899786877275), OrderedStatistic(items_base=frozenset({'spaghetti'}), items_add=frozenset({'eggs'}), confidence=0.20980091883614088, lift=1.1672899786877275)]),\n",
       " RelationRecord(items=frozenset({'mineral water', 'frozen vegetables'}), support=0.03573333333333333, ordered_statistics=[OrderedStatistic(items_base=frozenset({'frozen vegetables'}), items_add=frozenset({'mineral water'}), confidence=0.3748251748251748, lift=1.5731330784492508)]),\n",
       " RelationRecord(items=frozenset({'mineral water', 'ground beef'}), support=0.040933333333333335, ordered_statistics=[OrderedStatistic(items_base=frozenset({'ground beef'}), items_add=frozenset({'mineral water'}), confidence=0.41655359565807326, lift=1.7482663499919135)]),\n",
       " RelationRecord(items=frozenset({'ground beef', 'spaghetti'}), support=0.0392, ordered_statistics=[OrderedStatistic(items_base=frozenset({'ground beef'}), items_add=frozenset({'spaghetti'}), confidence=0.39891451831750335, lift=2.2908567284695827), OrderedStatistic(items_base=frozenset({'spaghetti'}), items_add=frozenset({'ground beef'}), confidence=0.225114854517611, lift=2.2908567284695827)]),\n",
       " RelationRecord(items=frozenset({'milk', 'mineral water'}), support=0.048, ordered_statistics=[OrderedStatistic(items_base=frozenset({'milk'}), items_add=frozenset({'mineral water'}), confidence=0.3703703703703704, lift=1.5544363613753656), OrderedStatistic(items_base=frozenset({'mineral water'}), items_add=frozenset({'milk'}), confidence=0.20145495243424735, lift=1.5544363613753656)]),\n",
       " RelationRecord(items=frozenset({'milk', 'spaghetti'}), support=0.03546666666666667, ordered_statistics=[OrderedStatistic(items_base=frozenset({'milk'}), items_add=frozenset({'spaghetti'}), confidence=0.27366255144032925, lift=1.5715690166940808), OrderedStatistic(items_base=frozenset({'spaghetti'}), items_add=frozenset({'milk'}), confidence=0.20367534456355282, lift=1.5715690166940806)]),\n",
       " RelationRecord(items=frozenset({'mineral water', 'pancakes'}), support=0.03373333333333333, ordered_statistics=[OrderedStatistic(items_base=frozenset({'pancakes'}), items_add=frozenset({'mineral water'}), confidence=0.3548387096774194, lift=1.489250320414463)]),\n",
       " RelationRecord(items=frozenset({'mineral water', 'spaghetti'}), support=0.05973333333333333, ordered_statistics=[OrderedStatistic(items_base=frozenset({'mineral water'}), items_add=frozenset({'spaghetti'}), confidence=0.2506994963626189, lift=1.4396984860027884), OrderedStatistic(items_base=frozenset({'spaghetti'}), items_add=frozenset({'mineral water'}), confidence=0.3430321592649311, lift=1.4396984860027886)])]"
      ]
     },
     "execution_count": 25,
     "metadata": {},
     "output_type": "execute_result"
    }
   ],
   "source": [
    "results"
   ]
  },
  {
   "cell_type": "code",
   "execution_count": 23,
   "id": "c080920b",
   "metadata": {},
   "outputs": [],
   "source": [
    "for result in results:\n",
    "    for subset in result[2]:\n",
    "        print(subset[0],subset[1])\n",
    "        print(\"Support:{0}; Confidence: {1}; Lift: {2};\".format(result[1],subset[2],subset[3]))\n",
    "        print()"
   ]
  },
  {
   "cell_type": "code",
   "execution_count": 20,
   "id": "179bbfef",
   "metadata": {},
   "outputs": [],
   "source": [
    "from efficient_apriori import apriori"
   ]
  },
  {
   "cell_type": "code",
   "execution_count": 25,
   "id": "c53134fb",
   "metadata": {},
   "outputs": [],
   "source": [
    "start=time.perf_counter()\n",
    "itemsets, rules=apriori(transactions,min_support=0.2,min_confidence=0.46)\n",
    "\n",
    "time3=(time.perf_counter()-start)\n",
    "t.append(time3)"
   ]
  },
  {
   "cell_type": "code",
   "execution_count": 26,
   "id": "f7c1b095",
   "metadata": {},
   "outputs": [],
   "source": [
    "for i in range(len(rules)):\n",
    "    print(rules[i])"
   ]
  },
  {
   "cell_type": "code",
   "execution_count": 21,
   "id": "e3bf2b5e",
   "metadata": {},
   "outputs": [],
   "source": [
    "from fpgrowth_py import fpgrowth"
   ]
  },
  {
   "cell_type": "code",
   "execution_count": 28,
   "id": "1ac45cd8",
   "metadata": {},
   "outputs": [],
   "source": [
    "start=time.perf_counter()\n",
    "itemsets, rules=apriori(transactions, min_support=0.2, min_confidence=0.46)\n",
    "\n",
    "time4=(time.perf_counter()-start)\n",
    "t.append(time4)"
   ]
  },
  {
   "cell_type": "code",
   "execution_count": 29,
   "id": "2dd31806",
   "metadata": {},
   "outputs": [],
   "source": [
    "for i in range(len(rules)):\n",
    "    print(rules[i])"
   ]
  },
  {
   "cell_type": "code",
   "execution_count": 31,
   "id": "ea2bb1ad",
   "metadata": {},
   "outputs": [
    {
     "name": "stdout",
     "output_type": "stream",
     "text": [
      "Время выполнения apriori:  0.28493650001473725 \n",
      "\n",
      "Время выполнения apriori2:  0.01000819995533675 \n",
      "\n",
      "Время выполнения efficient_apriori:  0.006073000025935471 \n",
      "\n",
      "Время выполнения fpgrowth:  0.0065237000817433 \n",
      "\n"
     ]
    },
    {
     "data": {
      "image/png": "[encoded data removed]",
      "text/plain": [
       "<Figure size 640x480 with 1 Axes>"
      ]
     },
     "metadata": {},
     "output_type": "display_data"
    }
   ],
   "source": [
    "print('Время выполнения apriori: ', t[0], '\\n')\n",
    "print('Время выполнения apriori2: ', t[1], '\\n')\n",
    "print('Время выполнения efficient_apriori: ', t[2], '\\n')\n",
    "print('Время выполнения fpgrowth: ', t[3], '\\n')\n",
    "plt.bar(['apriori','apriori 2','efficient_apriori', 'fpgrowth'], t)\n",
    "plt.show()"
   ]
  },
  {
   "cell_type": "code",
   "execution_count": null,
   "id": "b73cc953",
   "metadata": {},
   "outputs": [],
   "source": []
  }
 ],
 "metadata": {
  "kernelspec": {
   "display_name": "Python 3 (ipykernel)",
   "language": "python",
   "name": "python3"
  },
  "language_info": {
   "codemirror_mode": {
    "name": "ipython",
    "version": 3
   },
   "file_extension": ".py",
   "mimetype": "text/x-python",
   "name": "python",
   "nbconvert_exporter": "python",
   "pygments_lexer": "ipython3",
   "version": "3.10.7"
  }
 },
 "nbformat": 4,
 "nbformat_minor": 5
}
